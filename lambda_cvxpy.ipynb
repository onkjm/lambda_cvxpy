{
 "cells": [
  {
   "cell_type": "code",
   "execution_count": 1,
   "id": "2b673a35-a9ba-40b7-b449-29999d8c33e5",
   "metadata": {
    "tags": []
   },
   "outputs": [
    {
     "name": "stdout",
     "output_type": "stream",
     "text": [
      "sys.version= 3.10.0 | packaged by conda-forge | (default, Nov 20 2021, 02:43:39) [Clang 11.1.0 ]\n",
      "['CBC', 'ECOS', 'ECOS_BB', 'OSQP', 'SCIPY', 'SCS']\n",
      "\n",
      "The optimal value is -15.220912605552897\n",
      "A solution x is\n",
      "[-1.10133381 -0.16360111 -0.89734939  0.03216603  0.6069123  -1.12687348\n",
      "  1.12967856  0.88176638  0.49075229  0.8984822 ]\n",
      "A dual solution is\n",
      "[6.98804877e-10 6.11756416e-01 5.28171747e-01 1.07296862e+00\n",
      " 3.93758939e-09 2.30153870e+00 4.25704139e-10 7.61206896e-01\n",
      " 8.36906241e-09 2.49370377e-01 1.30187061e-09 2.06014070e+00\n",
      " 3.22417207e-01 3.84054343e-01 1.59493664e-09]\n",
      "\n",
      "{'x': [-1.387378400143966, 2.1810063217943303, -2.173410160903853, 1.5910341070670084]}\n",
      "{'x': [-1.387378400143966, 2.1810063217943303, -2.173410160903853, 1.5910341070670084]}\n",
      "\n",
      "set default value for m, n = 5, 3\n",
      "{'x': [-2.301538696891825, 1.7448117642841332, -0.7612069008566524]}\n",
      "{'x': [-2.301538696891825, 1.7448117642841332, -0.7612069008566524]}\n"
     ]
    }
   ],
   "source": [
    "%%script /opt/homebrew-x86_64/Caskroom/miniconda/base/envs/py3_10/bin/python\n",
    "import sys\n",
    "print('sys.version=', sys.version)\n",
    "sys.path += ['.venv/lib/python3.10/site-packages/']\n",
    "\n",
    "import cvxpy as cp\n",
    "print( cp.installed_solvers() )\n",
    "import numpy as np\n",
    "\n",
    "# Generate a random non-trivial linear program.\n",
    "m = 15\n",
    "n = 10\n",
    "np.random.seed(1)\n",
    "s0 = np.random.randn(m)\n",
    "lamb0 = np.maximum(-s0, 0)\n",
    "s0 = np.maximum(s0, 0)\n",
    "x0 = np.random.randn(n)\n",
    "A = np.random.randn(m, n)\n",
    "b = A @ x0 + s0\n",
    "c = -A.T @ lamb0\n",
    "\n",
    "# Define and solve the CVXPY problem.\n",
    "x = cp.Variable(n)\n",
    "prob = cp.Problem(cp.Minimize(c.T@x),\n",
    "                 [A @ x <= b])\n",
    "prob.solve()\n",
    "\n",
    "# Print result.\n",
    "print(\"\\nThe optimal value is\", prob.value)\n",
    "print(\"A solution x is\")\n",
    "print(x.value)\n",
    "print(\"A dual solution is\")\n",
    "print(prob.constraints[0].dual_value)\n",
    "\n",
    "from app import handler\n",
    "\n",
    "print()\n",
    "print( handler({'m':3, 'n':4}, None) )\n",
    "\n",
    "print()\n",
    "print( handler(None, None) )"
   ]
  },
  {
   "cell_type": "code",
   "execution_count": null,
   "id": "ee325fd3-f410-43f4-9b32-9b43c522725e",
   "metadata": {},
   "outputs": [],
   "source": []
  }
 ],
 "metadata": {
  "kernelspec": {
   "display_name": "lambda_cvxpy",
   "language": "python",
   "name": "lambda_cvxpy"
  },
  "language_info": {
   "codemirror_mode": {
    "name": "ipython",
    "version": 3
   },
   "file_extension": ".py",
   "mimetype": "text/x-python",
   "name": "python",
   "nbconvert_exporter": "python",
   "pygments_lexer": "ipython3",
   "version": "3.11.3"
  }
 },
 "nbformat": 4,
 "nbformat_minor": 5
}
